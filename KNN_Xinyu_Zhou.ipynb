{
  "nbformat": 4,
  "nbformat_minor": 0,
  "metadata": {
    "colab": {
      "name": "KNN_Xinyu Zhou.ipynb",
      "provenance": [],
      "collapsed_sections": [],
      "machine_shape": "hm",
      "include_colab_link": true
    },
    "kernelspec": {
      "name": "python3",
      "display_name": "Python 3"
    }
  },
  "cells": [
    {
      "cell_type": "markdown",
      "metadata": {
        "id": "view-in-github",
        "colab_type": "text"
      },
      "source": [
        "<a href=\"https://colab.research.google.com/github/sophia-zxy/CA06_KNN/blob/main/KNN_Xinyu_Zhou.ipynb\" target=\"_parent\"><img src=\"https://colab.research.google.com/assets/colab-badge.svg\" alt=\"Open In Colab\"/></a>"
      ]
    },
    {
      "cell_type": "markdown",
      "metadata": {
        "id": "0MRC0e0KhQ0S"
      },
      "source": [
        "# K-Nearest Neighbors (K-NN)\n",
        "\n",
        "Xinyu Zhou\n",
        "\n",
        "colab link: https://colab.research.google.com/drive/10j1vCmkcxDoNcf5YQHLw9-3j1J9e9slQ?usp=sharing\n"
      ]
    },
    {
      "cell_type": "markdown",
      "metadata": {
        "id": "DNEc5Uz_xGUj"
      },
      "source": [
        "#1. The Application\n",
        "\n",
        "Given a movies data set, what are the 5 most similar movies to a movie query?"
      ]
    },
    {
      "cell_type": "markdown",
      "metadata": {
        "id": "XAgIv4qExEUj"
      },
      "source": [
        "#2. Data Source and Contents"
      ]
    },
    {
      "cell_type": "code",
      "metadata": {
        "id": "YvGPUQaHhXfL",
        "colab": {
          "base_uri": "https://localhost:8080/"
        },
        "outputId": "e7f2af95-b1b3-4735-a31b-330cf85ff753"
      },
      "source": [
        "# Importing the libraries\n",
        "import numpy as np\n",
        "import matplotlib.pyplot as plt\n",
        "import pandas as pd\n",
        "from sklearn.metrics.pairwise import cosine_similarity\n",
        "from sklearn.neighbors import KNeighborsClassifier\n",
        "from sklearn.model_selection import train_test_split\n",
        "from sklearn.preprocessing import StandardScaler\n",
        "from scipy.sparse import csr_matrix\n",
        "from sklearn.neighbors import NearestNeighbors\n",
        "!pip install fuzzywuzzy\n",
        "from fuzzywuzzy import process"
      ],
      "execution_count": null,
      "outputs": [
        {
          "output_type": "stream",
          "text": [
            "Requirement already satisfied: fuzzywuzzy in /usr/local/lib/python3.7/dist-packages (0.18.0)\n"
          ],
          "name": "stdout"
        }
      ]
    },
    {
      "cell_type": "code",
      "metadata": {
        "id": "M52QDmyzhh9s",
        "colab": {
          "base_uri": "https://localhost:8080/"
        },
        "outputId": "d1ac70f3-66b2-491e-827a-dc83b35760e1"
      },
      "source": [
        "# Importing the dataset\n",
        "dataset = pd.read_csv('https://github.com/ArinB/CA05-kNN/raw/master/movies_recommendation_data.csv')\n",
        "# Remove last column\n",
        "dataset = dataset.iloc[:,1:-1]\n",
        "# Data Quality Analysis to find missing values, outliers, NaNs etc.\n",
        "print(dataset.isnull().sum())\n",
        "print(dataset.info())\n",
        "#dataset.describe()\n",
        "#no missing values like NaN is dectected"
      ],
      "execution_count": null,
      "outputs": [
        {
          "output_type": "stream",
          "text": [
            "Movie Name     0\n",
            "IMDB Rating    0\n",
            "Biography      0\n",
            "Drama          0\n",
            "Thriller       0\n",
            "Comedy         0\n",
            "Crime          0\n",
            "Mystery        0\n",
            "History        0\n",
            "dtype: int64\n",
            "<class 'pandas.core.frame.DataFrame'>\n",
            "RangeIndex: 30 entries, 0 to 29\n",
            "Data columns (total 9 columns):\n",
            " #   Column       Non-Null Count  Dtype  \n",
            "---  ------       --------------  -----  \n",
            " 0   Movie Name   30 non-null     object \n",
            " 1   IMDB Rating  30 non-null     float64\n",
            " 2   Biography    30 non-null     int64  \n",
            " 3   Drama        30 non-null     int64  \n",
            " 4   Thriller     30 non-null     int64  \n",
            " 5   Comedy       30 non-null     int64  \n",
            " 6   Crime        30 non-null     int64  \n",
            " 7   Mystery      30 non-null     int64  \n",
            " 8   History      30 non-null     int64  \n",
            "dtypes: float64(1), int64(7), object(1)\n",
            "memory usage: 2.2+ KB\n",
            "None\n"
          ],
          "name": "stdout"
        }
      ]
    },
    {
      "cell_type": "code",
      "metadata": {
        "id": "AVzJWAXIhxoC"
      },
      "source": [
        "#Splitting the dataset into the Training set and Test set\n",
        "X = dataset.iloc[:,1:]\n",
        "y = dataset.iloc[:,0:1]\n",
        "X_train, X_test, y_train, y_test = train_test_split(X, y, test_size = 0.25, random_state = 0)"
      ],
      "execution_count": null,
      "outputs": []
    },
    {
      "cell_type": "markdown",
      "metadata": {
        "id": "Ps3VNI8bw8mh"
      },
      "source": [
        "#3. Building your own Recommender System"
      ]
    },
    {
      "cell_type": "code",
      "metadata": {
        "id": "SB2xaV7irDoE"
      },
      "source": [
        "# Feature scaling\n",
        "sc = StandardScaler()\n",
        "X_train = sc.fit_transform(X_train)\n",
        "X_test = sc.transform(X_test)"
      ],
      "execution_count": null,
      "outputs": []
    },
    {
      "cell_type": "code",
      "metadata": {
        "colab": {
          "base_uri": "https://localhost:8080/"
        },
        "id": "h1s8VAIz8WV0",
        "outputId": "d9fd5936-ec96-4337-d83e-065e98c08d25"
      },
      "source": [
        "# Training the K-NN model on the Training set\n",
        "model_knn= NearestNeighbors(metric='cosine', algorithm='brute', n_neighbors=5)\n",
        "model_knn.fit(X_train)\n",
        "# predicting with 5 near neighbors\n",
        "x = np.array([7.2,1,1,0,0,0,0,1])\n",
        "x = x.reshape(1,-1)\n",
        "mat_movies_users = csr_matrix(x)\n",
        "distances, indices=model_knn.kneighbors(x)\n",
        "for i in indices:\n",
        "    print(dataset['Movie Name'][i])"
      ],
      "execution_count": null,
      "outputs": [
        {
          "output_type": "stream",
          "text": [
            "11        A Time To Kill\n",
            "21     Stand and Deliver\n",
            "17         Spirited Away\n",
            "20      The DaVinci Code\n",
            "0     The Imitation Game\n",
            "Name: Movie Name, dtype: object\n"
          ],
          "name": "stdout"
        }
      ]
    },
    {
      "cell_type": "markdown",
      "metadata": {
        "id": "6OMC_P0diaoD"
      },
      "source": [
        "#What recommendations he/she will see?\n",
        "\n",
        "Implement this problem using Python scikit-learn and display the answer within the Notebook with proper narrative / comments.\n",
        "\n",
        "The KNN model use Cosine similarity to get 5 near movies to The Post information.The KNN model would recommend these 5 movies:\n",
        "\n",
        "A Time To Kill\n",
        "\n",
        "Stand and Deliver\n",
        "\n",
        "Spirited Away\n",
        "\n",
        "The DaVinci Code\n",
        "\n",
        "The Imitation Game\n"
      ]
    }
  ]
}